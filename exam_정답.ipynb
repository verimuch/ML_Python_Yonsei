{
  "cells": [
    {
      "cell_type": "markdown",
      "metadata": {
        "id": "view-in-github",
        "colab_type": "text"
      },
      "source": [
        "<a href=\"https://colab.research.google.com/github/verimuch/ML_Python_Yonsei/blob/main/exam_%EC%A0%95%EB%8B%B5.ipynb\" target=\"_parent\"><img src=\"https://colab.research.google.com/assets/colab-badge.svg\" alt=\"Open In Colab\"/></a>"
      ]
    },
    {
      "cell_type": "code",
      "execution_count": null,
      "metadata": {
        "id": "8B2q9YpA9etK"
      },
      "outputs": [],
      "source": [
        "## 환경설정\n",
        "\n",
        "import pandas as pd\n",
        "import numpy as np\n",
        "import matplotlib.pyplot as plt\n",
        "import matplotlib"
      ]
    },
    {
      "cell_type": "code",
      "source": [
        "# 데이터 다운로드하기\n",
        "df = pd.read_csv(\"https://raw.githubusercontent.com/StillWork/data/master/titanic_train.csv\")\n"
      ],
      "metadata": {
        "id": "6XVvAAhbFUD2"
      },
      "execution_count": null,
      "outputs": []
    },
    {
      "cell_type": "code",
      "source": [
        "df[\"Embarked\"].value_counts()"
      ],
      "metadata": {
        "colab": {
          "base_uri": "https://localhost:8080/"
        },
        "id": "a1tBzx8CFPIe",
        "outputId": "ed951152-d6fb-4094-bbaa-f1165632c1d4"
      },
      "execution_count": null,
      "outputs": [
        {
          "output_type": "execute_result",
          "data": {
            "text/plain": [
              "S    644\n",
              "C    168\n",
              "Q     77\n",
              "Name: Embarked, dtype: int64"
            ]
          },
          "metadata": {},
          "execution_count": 55
        }
      ]
    },
    {
      "cell_type": "code",
      "execution_count": null,
      "metadata": {
        "id": "1lIi4rjgE_jD",
        "outputId": "604ef0f5-ba61-4758-ae1e-94e330fa2f70",
        "colab": {
          "base_uri": "https://localhost:8080/",
          "height": 532
        }
      },
      "outputs": [
        {
          "output_type": "stream",
          "name": "stdout",
          "text": [
            "0    0\n",
            "1    1\n",
            "2    1\n",
            "3    1\n",
            "4    0\n",
            "Name: Survived, dtype: int64\n"
          ]
        },
        {
          "output_type": "execute_result",
          "data": {
            "text/plain": [
              "                   0         1         2         3         4\n",
              "Age         0.271174  0.472229  0.321438  0.434531  0.434531\n",
              "Embarked_C  0.000000  1.000000  0.000000  0.000000  0.000000\n",
              "Embarked_Q  0.000000  0.000000  0.000000  0.000000  0.000000\n",
              "Embarked_S  1.000000  0.000000  1.000000  1.000000  1.000000\n",
              "Fare        0.014151  0.139136  0.015469  0.103644  0.015713\n",
              "Parch       0.000000  0.000000  0.000000  0.000000  0.000000\n",
              "Pclass_1    0.000000  1.000000  0.000000  1.000000  0.000000\n",
              "Pclass_2    0.000000  0.000000  0.000000  0.000000  0.000000\n",
              "Pclass_3    1.000000  0.000000  1.000000  0.000000  1.000000\n",
              "Sex_female  0.000000  1.000000  1.000000  1.000000  0.000000\n",
              "Sex_male    1.000000  0.000000  0.000000  0.000000  1.000000\n",
              "SibSp       1.000000  1.000000  0.000000  1.000000  0.000000"
            ],
            "text/html": [
              "\n",
              "  <div id=\"df-57789c46-848c-4be5-a93b-36272529ed35\">\n",
              "    <div class=\"colab-df-container\">\n",
              "      <div>\n",
              "<style scoped>\n",
              "    .dataframe tbody tr th:only-of-type {\n",
              "        vertical-align: middle;\n",
              "    }\n",
              "\n",
              "    .dataframe tbody tr th {\n",
              "        vertical-align: top;\n",
              "    }\n",
              "\n",
              "    .dataframe thead th {\n",
              "        text-align: right;\n",
              "    }\n",
              "</style>\n",
              "<table border=\"1\" class=\"dataframe\">\n",
              "  <thead>\n",
              "    <tr style=\"text-align: right;\">\n",
              "      <th></th>\n",
              "      <th>0</th>\n",
              "      <th>1</th>\n",
              "      <th>2</th>\n",
              "      <th>3</th>\n",
              "      <th>4</th>\n",
              "    </tr>\n",
              "  </thead>\n",
              "  <tbody>\n",
              "    <tr>\n",
              "      <th>Age</th>\n",
              "      <td>0.271174</td>\n",
              "      <td>0.472229</td>\n",
              "      <td>0.321438</td>\n",
              "      <td>0.434531</td>\n",
              "      <td>0.434531</td>\n",
              "    </tr>\n",
              "    <tr>\n",
              "      <th>Embarked_C</th>\n",
              "      <td>0.000000</td>\n",
              "      <td>1.000000</td>\n",
              "      <td>0.000000</td>\n",
              "      <td>0.000000</td>\n",
              "      <td>0.000000</td>\n",
              "    </tr>\n",
              "    <tr>\n",
              "      <th>Embarked_Q</th>\n",
              "      <td>0.000000</td>\n",
              "      <td>0.000000</td>\n",
              "      <td>0.000000</td>\n",
              "      <td>0.000000</td>\n",
              "      <td>0.000000</td>\n",
              "    </tr>\n",
              "    <tr>\n",
              "      <th>Embarked_S</th>\n",
              "      <td>1.000000</td>\n",
              "      <td>0.000000</td>\n",
              "      <td>1.000000</td>\n",
              "      <td>1.000000</td>\n",
              "      <td>1.000000</td>\n",
              "    </tr>\n",
              "    <tr>\n",
              "      <th>Fare</th>\n",
              "      <td>0.014151</td>\n",
              "      <td>0.139136</td>\n",
              "      <td>0.015469</td>\n",
              "      <td>0.103644</td>\n",
              "      <td>0.015713</td>\n",
              "    </tr>\n",
              "    <tr>\n",
              "      <th>Parch</th>\n",
              "      <td>0.000000</td>\n",
              "      <td>0.000000</td>\n",
              "      <td>0.000000</td>\n",
              "      <td>0.000000</td>\n",
              "      <td>0.000000</td>\n",
              "    </tr>\n",
              "    <tr>\n",
              "      <th>Pclass_1</th>\n",
              "      <td>0.000000</td>\n",
              "      <td>1.000000</td>\n",
              "      <td>0.000000</td>\n",
              "      <td>1.000000</td>\n",
              "      <td>0.000000</td>\n",
              "    </tr>\n",
              "    <tr>\n",
              "      <th>Pclass_2</th>\n",
              "      <td>0.000000</td>\n",
              "      <td>0.000000</td>\n",
              "      <td>0.000000</td>\n",
              "      <td>0.000000</td>\n",
              "      <td>0.000000</td>\n",
              "    </tr>\n",
              "    <tr>\n",
              "      <th>Pclass_3</th>\n",
              "      <td>1.000000</td>\n",
              "      <td>0.000000</td>\n",
              "      <td>1.000000</td>\n",
              "      <td>0.000000</td>\n",
              "      <td>1.000000</td>\n",
              "    </tr>\n",
              "    <tr>\n",
              "      <th>Sex_female</th>\n",
              "      <td>0.000000</td>\n",
              "      <td>1.000000</td>\n",
              "      <td>1.000000</td>\n",
              "      <td>1.000000</td>\n",
              "      <td>0.000000</td>\n",
              "    </tr>\n",
              "    <tr>\n",
              "      <th>Sex_male</th>\n",
              "      <td>1.000000</td>\n",
              "      <td>0.000000</td>\n",
              "      <td>0.000000</td>\n",
              "      <td>0.000000</td>\n",
              "      <td>1.000000</td>\n",
              "    </tr>\n",
              "    <tr>\n",
              "      <th>SibSp</th>\n",
              "      <td>1.000000</td>\n",
              "      <td>1.000000</td>\n",
              "      <td>0.000000</td>\n",
              "      <td>1.000000</td>\n",
              "      <td>0.000000</td>\n",
              "    </tr>\n",
              "  </tbody>\n",
              "</table>\n",
              "</div>\n",
              "      <button class=\"colab-df-convert\" onclick=\"convertToInteractive('df-57789c46-848c-4be5-a93b-36272529ed35')\"\n",
              "              title=\"Convert this dataframe to an interactive table.\"\n",
              "              style=\"display:none;\">\n",
              "        \n",
              "  <svg xmlns=\"http://www.w3.org/2000/svg\" height=\"24px\"viewBox=\"0 0 24 24\"\n",
              "       width=\"24px\">\n",
              "    <path d=\"M0 0h24v24H0V0z\" fill=\"none\"/>\n",
              "    <path d=\"M18.56 5.44l.94 2.06.94-2.06 2.06-.94-2.06-.94-.94-2.06-.94 2.06-2.06.94zm-11 1L8.5 8.5l.94-2.06 2.06-.94-2.06-.94L8.5 2.5l-.94 2.06-2.06.94zm10 10l.94 2.06.94-2.06 2.06-.94-2.06-.94-.94-2.06-.94 2.06-2.06.94z\"/><path d=\"M17.41 7.96l-1.37-1.37c-.4-.4-.92-.59-1.43-.59-.52 0-1.04.2-1.43.59L10.3 9.45l-7.72 7.72c-.78.78-.78 2.05 0 2.83L4 21.41c.39.39.9.59 1.41.59.51 0 1.02-.2 1.41-.59l7.78-7.78 2.81-2.81c.8-.78.8-2.07 0-2.86zM5.41 20L4 18.59l7.72-7.72 1.47 1.35L5.41 20z\"/>\n",
              "  </svg>\n",
              "      </button>\n",
              "      \n",
              "  <style>\n",
              "    .colab-df-container {\n",
              "      display:flex;\n",
              "      flex-wrap:wrap;\n",
              "      gap: 12px;\n",
              "    }\n",
              "\n",
              "    .colab-df-convert {\n",
              "      background-color: #E8F0FE;\n",
              "      border: none;\n",
              "      border-radius: 50%;\n",
              "      cursor: pointer;\n",
              "      display: none;\n",
              "      fill: #1967D2;\n",
              "      height: 32px;\n",
              "      padding: 0 0 0 0;\n",
              "      width: 32px;\n",
              "    }\n",
              "\n",
              "    .colab-df-convert:hover {\n",
              "      background-color: #E2EBFA;\n",
              "      box-shadow: 0px 1px 2px rgba(60, 64, 67, 0.3), 0px 1px 3px 1px rgba(60, 64, 67, 0.15);\n",
              "      fill: #174EA6;\n",
              "    }\n",
              "\n",
              "    [theme=dark] .colab-df-convert {\n",
              "      background-color: #3B4455;\n",
              "      fill: #D2E3FC;\n",
              "    }\n",
              "\n",
              "    [theme=dark] .colab-df-convert:hover {\n",
              "      background-color: #434B5C;\n",
              "      box-shadow: 0px 1px 3px 1px rgba(0, 0, 0, 0.15);\n",
              "      filter: drop-shadow(0px 1px 2px rgba(0, 0, 0, 0.3));\n",
              "      fill: #FFFFFF;\n",
              "    }\n",
              "  </style>\n",
              "\n",
              "      <script>\n",
              "        const buttonEl =\n",
              "          document.querySelector('#df-57789c46-848c-4be5-a93b-36272529ed35 button.colab-df-convert');\n",
              "        buttonEl.style.display =\n",
              "          google.colab.kernel.accessAllowed ? 'block' : 'none';\n",
              "\n",
              "        async function convertToInteractive(key) {\n",
              "          const element = document.querySelector('#df-57789c46-848c-4be5-a93b-36272529ed35');\n",
              "          const dataTable =\n",
              "            await google.colab.kernel.invokeFunction('convertToInteractive',\n",
              "                                                     [key], {});\n",
              "          if (!dataTable) return;\n",
              "\n",
              "          const docLinkHtml = 'Like what you see? Visit the ' +\n",
              "            '<a target=\"_blank\" href=https://colab.research.google.com/notebooks/data_table.ipynb>data table notebook</a>'\n",
              "            + ' to learn more about interactive tables.';\n",
              "          element.innerHTML = '';\n",
              "          dataTable['output_type'] = 'display_data';\n",
              "          await google.colab.output.renderOutput(dataTable, element);\n",
              "          const docLink = document.createElement('div');\n",
              "          docLink.innerHTML = docLinkHtml;\n",
              "          element.appendChild(docLink);\n",
              "        }\n",
              "      </script>\n",
              "    </div>\n",
              "  </div>\n",
              "  "
            ]
          },
          "metadata": {},
          "execution_count": 56
        }
      ],
      "source": [
        "## 데이터 전처리\n",
        "\n",
        "# 나이를 30으로 대체 (대체한 것을 즉시 반영했다)\n",
        "df.Age.fillna(30, inplace=True)\n",
        "\n",
        "# Embarked (항구명) 결측치를 \"S\"로 대체\n",
        "df.Embarked.fillna('S', inplace=True)\n",
        "\n",
        "# 사용하지 않을 컬럼 4개를 삭제한 데이터프레임을 만들고 백업한다\n",
        "df = df[df.columns.difference(['PassengerId','Name','Ticket','Cabin'])]\n",
        "\n",
        "# 선실등급, 성별, 항구명을 원핫 인코딩한다\n",
        "df = pd.get_dummies(df, columns=['Pclass','Sex','Embarked'])\n",
        "\n",
        "# 요금(Fare)은 로그를 취한 값을 사용한다\n",
        "# df[\"Fare\"] = np.log(df.Fare +1)\n",
        "\n",
        "# 연속형 변수에 min-max 스케일링을 적용한다\n",
        "from sklearn.preprocessing import StandardScaler, MinMaxScaler\n",
        "scaler = MinMaxScaler()\n",
        "df.loc[:][['Age','Fare','SibSp','Parch']] = scaler.fit_transform(df[['Age','Fare','SibSp','Parch']])\n",
        "\n",
        "# 데이터분석에 사용할 X와 y 얻기\n",
        "X = df[df.columns.difference(['Survived'])]\n",
        "y = df.Survived\n",
        "\n",
        "# X, y 확인하기\n",
        "print(y[:5])\n",
        "X[:5].T"
      ]
    },
    {
      "cell_type": "code",
      "source": [
        "df.shape"
      ],
      "metadata": {
        "colab": {
          "base_uri": "https://localhost:8080/"
        },
        "id": "up8wqLrrF0iP",
        "outputId": "9de14332-863b-433b-9125-585fda2efb44"
      },
      "execution_count": null,
      "outputs": [
        {
          "output_type": "execute_result",
          "data": {
            "text/plain": [
              "(891, 13)"
            ]
          },
          "metadata": {},
          "execution_count": 57
        }
      ]
    },
    {
      "cell_type": "code",
      "execution_count": null,
      "metadata": {
        "id": "SQj1u3PhE_jF",
        "outputId": "79be2523-9629-4dcf-dded-05a78170ec98",
        "colab": {
          "base_uri": "https://localhost:8080/"
        }
      },
      "outputs": [
        {
          "output_type": "execute_result",
          "data": {
            "text/plain": [
              "(668, 223)"
            ]
          },
          "metadata": {},
          "execution_count": 58
        }
      ],
      "source": [
        "## X와 y를 훈련 데이터와 검증 데이터로 나눈다 (디폴트 비율은 75%: 25%)\n",
        "\n",
        "from sklearn.model_selection import train_test_split\n",
        "X_train, X_test, y_train, y_test = train_test_split(X, y, test_size=0.2, random_state=8, shuffle=True)\n",
        "\n",
        "# 훈련 및 검증 데이터 갯수 확인\n",
        "len(X_train), len(X_test)"
      ]
    },
    {
      "cell_type": "code",
      "execution_count": null,
      "metadata": {
        "id": "KHIbqTn9E_jG",
        "outputId": "6ce822ab-b189-4c50-e1af-920b4146f293",
        "colab": {
          "base_uri": "https://localhost:8080/"
        }
      },
      "outputs": [
        {
          "output_type": "execute_result",
          "data": {
            "text/plain": [
              "0.6816143497757847"
            ]
          },
          "metadata": {},
          "execution_count": 59
        }
      ],
      "source": [
        "## 선형 분류 모델로 SGDClassifier를 사용\n",
        "\n",
        "# 모델 생성\n",
        "from sklearn.linear_model import SGDClassifier\n",
        "model = SGDClassifier()\n",
        "\n",
        "# 학습 데이터를 사용하여 학습을 수행한다\n",
        "model.fit(X_train, y_train)\n",
        "\n",
        "# 검증 데이터를 사용하여 모델의 성능을 확인한다 (정확도를 알려준다)\n",
        "model.score(X_test, y_test)"
      ]
    },
    {
      "cell_type": "code",
      "execution_count": null,
      "metadata": {
        "id": "x9uz5C2cE_jG",
        "outputId": "3602acea-72f5-47fc-a95d-6bbf1407cbf4",
        "colab": {
          "base_uri": "https://localhost:8080/",
          "height": 426
        }
      },
      "outputs": [
        {
          "output_type": "execute_result",
          "data": {
            "text/plain": [
              "            weight\n",
              "Age        -4.1571\n",
              "Pclass_3   -2.6038\n",
              "Embarked_S -2.1699\n",
              "Sex_male   -2.1699\n",
              "SibSp      -2.1699\n",
              "Parch      -1.7359\n",
              "Pclass_2   -0.8679\n",
              "Embarked_Q  0.0000\n",
              "Embarked_C  0.4340\n",
              "Sex_female  0.4340\n",
              "Fare        1.2318\n",
              "Pclass_1    1.7359"
            ],
            "text/html": [
              "\n",
              "  <div id=\"df-fbf5cfc3-de6b-4b9b-bfc8-a9415e71cc32\">\n",
              "    <div class=\"colab-df-container\">\n",
              "      <div>\n",
              "<style scoped>\n",
              "    .dataframe tbody tr th:only-of-type {\n",
              "        vertical-align: middle;\n",
              "    }\n",
              "\n",
              "    .dataframe tbody tr th {\n",
              "        vertical-align: top;\n",
              "    }\n",
              "\n",
              "    .dataframe thead th {\n",
              "        text-align: right;\n",
              "    }\n",
              "</style>\n",
              "<table border=\"1\" class=\"dataframe\">\n",
              "  <thead>\n",
              "    <tr style=\"text-align: right;\">\n",
              "      <th></th>\n",
              "      <th>weight</th>\n",
              "    </tr>\n",
              "  </thead>\n",
              "  <tbody>\n",
              "    <tr>\n",
              "      <th>Age</th>\n",
              "      <td>-4.1571</td>\n",
              "    </tr>\n",
              "    <tr>\n",
              "      <th>Pclass_3</th>\n",
              "      <td>-2.6038</td>\n",
              "    </tr>\n",
              "    <tr>\n",
              "      <th>Embarked_S</th>\n",
              "      <td>-2.1699</td>\n",
              "    </tr>\n",
              "    <tr>\n",
              "      <th>Sex_male</th>\n",
              "      <td>-2.1699</td>\n",
              "    </tr>\n",
              "    <tr>\n",
              "      <th>SibSp</th>\n",
              "      <td>-2.1699</td>\n",
              "    </tr>\n",
              "    <tr>\n",
              "      <th>Parch</th>\n",
              "      <td>-1.7359</td>\n",
              "    </tr>\n",
              "    <tr>\n",
              "      <th>Pclass_2</th>\n",
              "      <td>-0.8679</td>\n",
              "    </tr>\n",
              "    <tr>\n",
              "      <th>Embarked_Q</th>\n",
              "      <td>0.0000</td>\n",
              "    </tr>\n",
              "    <tr>\n",
              "      <th>Embarked_C</th>\n",
              "      <td>0.4340</td>\n",
              "    </tr>\n",
              "    <tr>\n",
              "      <th>Sex_female</th>\n",
              "      <td>0.4340</td>\n",
              "    </tr>\n",
              "    <tr>\n",
              "      <th>Fare</th>\n",
              "      <td>1.2318</td>\n",
              "    </tr>\n",
              "    <tr>\n",
              "      <th>Pclass_1</th>\n",
              "      <td>1.7359</td>\n",
              "    </tr>\n",
              "  </tbody>\n",
              "</table>\n",
              "</div>\n",
              "      <button class=\"colab-df-convert\" onclick=\"convertToInteractive('df-fbf5cfc3-de6b-4b9b-bfc8-a9415e71cc32')\"\n",
              "              title=\"Convert this dataframe to an interactive table.\"\n",
              "              style=\"display:none;\">\n",
              "        \n",
              "  <svg xmlns=\"http://www.w3.org/2000/svg\" height=\"24px\"viewBox=\"0 0 24 24\"\n",
              "       width=\"24px\">\n",
              "    <path d=\"M0 0h24v24H0V0z\" fill=\"none\"/>\n",
              "    <path d=\"M18.56 5.44l.94 2.06.94-2.06 2.06-.94-2.06-.94-.94-2.06-.94 2.06-2.06.94zm-11 1L8.5 8.5l.94-2.06 2.06-.94-2.06-.94L8.5 2.5l-.94 2.06-2.06.94zm10 10l.94 2.06.94-2.06 2.06-.94-2.06-.94-.94-2.06-.94 2.06-2.06.94z\"/><path d=\"M17.41 7.96l-1.37-1.37c-.4-.4-.92-.59-1.43-.59-.52 0-1.04.2-1.43.59L10.3 9.45l-7.72 7.72c-.78.78-.78 2.05 0 2.83L4 21.41c.39.39.9.59 1.41.59.51 0 1.02-.2 1.41-.59l7.78-7.78 2.81-2.81c.8-.78.8-2.07 0-2.86zM5.41 20L4 18.59l7.72-7.72 1.47 1.35L5.41 20z\"/>\n",
              "  </svg>\n",
              "      </button>\n",
              "      \n",
              "  <style>\n",
              "    .colab-df-container {\n",
              "      display:flex;\n",
              "      flex-wrap:wrap;\n",
              "      gap: 12px;\n",
              "    }\n",
              "\n",
              "    .colab-df-convert {\n",
              "      background-color: #E8F0FE;\n",
              "      border: none;\n",
              "      border-radius: 50%;\n",
              "      cursor: pointer;\n",
              "      display: none;\n",
              "      fill: #1967D2;\n",
              "      height: 32px;\n",
              "      padding: 0 0 0 0;\n",
              "      width: 32px;\n",
              "    }\n",
              "\n",
              "    .colab-df-convert:hover {\n",
              "      background-color: #E2EBFA;\n",
              "      box-shadow: 0px 1px 2px rgba(60, 64, 67, 0.3), 0px 1px 3px 1px rgba(60, 64, 67, 0.15);\n",
              "      fill: #174EA6;\n",
              "    }\n",
              "\n",
              "    [theme=dark] .colab-df-convert {\n",
              "      background-color: #3B4455;\n",
              "      fill: #D2E3FC;\n",
              "    }\n",
              "\n",
              "    [theme=dark] .colab-df-convert:hover {\n",
              "      background-color: #434B5C;\n",
              "      box-shadow: 0px 1px 3px 1px rgba(0, 0, 0, 0.15);\n",
              "      filter: drop-shadow(0px 1px 2px rgba(0, 0, 0, 0.3));\n",
              "      fill: #FFFFFF;\n",
              "    }\n",
              "  </style>\n",
              "\n",
              "      <script>\n",
              "        const buttonEl =\n",
              "          document.querySelector('#df-fbf5cfc3-de6b-4b9b-bfc8-a9415e71cc32 button.colab-df-convert');\n",
              "        buttonEl.style.display =\n",
              "          google.colab.kernel.accessAllowed ? 'block' : 'none';\n",
              "\n",
              "        async function convertToInteractive(key) {\n",
              "          const element = document.querySelector('#df-fbf5cfc3-de6b-4b9b-bfc8-a9415e71cc32');\n",
              "          const dataTable =\n",
              "            await google.colab.kernel.invokeFunction('convertToInteractive',\n",
              "                                                     [key], {});\n",
              "          if (!dataTable) return;\n",
              "\n",
              "          const docLinkHtml = 'Like what you see? Visit the ' +\n",
              "            '<a target=\"_blank\" href=https://colab.research.google.com/notebooks/data_table.ipynb>data table notebook</a>'\n",
              "            + ' to learn more about interactive tables.';\n",
              "          element.innerHTML = '';\n",
              "          dataTable['output_type'] = 'display_data';\n",
              "          await google.colab.output.renderOutput(dataTable, element);\n",
              "          const docLink = document.createElement('div');\n",
              "          docLink.innerHTML = docLinkHtml;\n",
              "          element.appendChild(docLink);\n",
              "        }\n",
              "      </script>\n",
              "    </div>\n",
              "  </div>\n",
              "  "
            ]
          },
          "metadata": {},
          "execution_count": 60
        }
      ],
      "source": [
        "## 각 특성이 얼마나 중요하게 반영되었는지를 본다\n",
        "\n",
        "W = pd.DataFrame(model.coef_[0].round(4), index=X.columns\n",
        "                , columns=['weight'])\n",
        "W.sort_values('weight')"
      ]
    },
    {
      "cell_type": "code",
      "execution_count": null,
      "metadata": {
        "id": "_usGxdxyE_jH",
        "outputId": "27624a3a-e8bd-49ec-d02f-03f8b948b1ca",
        "colab": {
          "base_uri": "https://localhost:8080/",
          "height": 283
        }
      },
      "outputs": [
        {
          "output_type": "execute_result",
          "data": {
            "text/plain": [
              "<matplotlib.axes._subplots.AxesSubplot at 0x7f4c558d8650>"
            ]
          },
          "metadata": {},
          "execution_count": 61
        },
        {
          "output_type": "display_data",
          "data": {
            "text/plain": [
              "<Figure size 432x288 with 1 Axes>"
            ],
            "image/png": "[encoded data removed]"
          },
          "metadata": {
            "needs_background": "light"
          }
        }
      ],
      "source": [
        "## 각 특성이 얼마나 중요하게 반영되었는지를 그래프로 보기\n",
        "\n",
        "W.sort_values('weight').plot(kind='barh')"
      ]
    },
    {
      "cell_type": "markdown",
      "metadata": {
        "id": "QwNm_aogE_jH"
      },
      "source": [
        "- 위 결과를 보면 생존하는데 가장 많이 기여한 변수는 여성, 요금, 1등석 등이고\n",
        "- 생존하지 않는데 가장 많이 기여한 변수는 남성, 나이, 3등객실 등인 것을 알 수 있다"
      ]
    },
    {
      "cell_type": "code",
      "execution_count": null,
      "metadata": {
        "id": "dAbppFPzE_jH",
        "colab": {
          "base_uri": "https://localhost:8080/"
        },
        "outputId": "db7af369-973e-46ee-8424-748dbd470190"
      },
      "outputs": [
        {
          "output_type": "execute_result",
          "data": {
            "text/plain": [
              "0.7374301675977654"
            ]
          },
          "metadata": {},
          "execution_count": 62
        }
      ],
      "source": [
        "X_new = X[['Fare','Sex_female']]\n",
        "X_train, X_test, y_train, y_test = train_test_split(X_new, y, test_size=0.2, random_state=8, shuffle=True)\n",
        "model.fit(X_train, y_train)\n",
        "model.score(X_test, y_test)"
      ]
    },
    {
      "cell_type": "code",
      "source": [
        "list(X.columns)"
      ],
      "metadata": {
        "colab": {
          "base_uri": "https://localhost:8080/"
        },
        "id": "bt1IRTJ6IjRF",
        "outputId": "1b39731a-c3f2-46c7-8dff-f48162248bf8"
      },
      "execution_count": null,
      "outputs": [
        {
          "output_type": "execute_result",
          "data": {
            "text/plain": [
              "['Age',\n",
              " 'Embarked_C',\n",
              " 'Embarked_Q',\n",
              " 'Embarked_S',\n",
              " 'Fare',\n",
              " 'Parch',\n",
              " 'Pclass_1',\n",
              " 'Pclass_2',\n",
              " 'Pclass_3',\n",
              " 'Sex_female',\n",
              " 'Sex_male',\n",
              " 'SibSp']"
            ]
          },
          "metadata": {},
          "execution_count": 63
        }
      ]
    },
    {
      "cell_type": "code",
      "source": [
        "import itertools\n",
        "list(itertools.combinations(list(X.columns),2))"
      ],
      "metadata": {
        "colab": {
          "base_uri": "https://localhost:8080/"
        },
        "id": "UJe5BiaNKttS",
        "outputId": "c5c15787-a881-423a-c473-32e34dd2cd67"
      },
      "execution_count": null,
      "outputs": [
        {
          "output_type": "execute_result",
          "data": {
            "text/plain": [
              "[('Age', 'Embarked_C'),\n",
              " ('Age', 'Embarked_Q'),\n",
              " ('Age', 'Embarked_S'),\n",
              " ('Age', 'Fare'),\n",
              " ('Age', 'Parch'),\n",
              " ('Age', 'Pclass_1'),\n",
              " ('Age', 'Pclass_2'),\n",
              " ('Age', 'Pclass_3'),\n",
              " ('Age', 'Sex_female'),\n",
              " ('Age', 'Sex_male'),\n",
              " ('Age', 'SibSp'),\n",
              " ('Embarked_C', 'Embarked_Q'),\n",
              " ('Embarked_C', 'Embarked_S'),\n",
              " ('Embarked_C', 'Fare'),\n",
              " ('Embarked_C', 'Parch'),\n",
              " ('Embarked_C', 'Pclass_1'),\n",
              " ('Embarked_C', 'Pclass_2'),\n",
              " ('Embarked_C', 'Pclass_3'),\n",
              " ('Embarked_C', 'Sex_female'),\n",
              " ('Embarked_C', 'Sex_male'),\n",
              " ('Embarked_C', 'SibSp'),\n",
              " ('Embarked_Q', 'Embarked_S'),\n",
              " ('Embarked_Q', 'Fare'),\n",
              " ('Embarked_Q', 'Parch'),\n",
              " ('Embarked_Q', 'Pclass_1'),\n",
              " ('Embarked_Q', 'Pclass_2'),\n",
              " ('Embarked_Q', 'Pclass_3'),\n",
              " ('Embarked_Q', 'Sex_female'),\n",
              " ('Embarked_Q', 'Sex_male'),\n",
              " ('Embarked_Q', 'SibSp'),\n",
              " ('Embarked_S', 'Fare'),\n",
              " ('Embarked_S', 'Parch'),\n",
              " ('Embarked_S', 'Pclass_1'),\n",
              " ('Embarked_S', 'Pclass_2'),\n",
              " ('Embarked_S', 'Pclass_3'),\n",
              " ('Embarked_S', 'Sex_female'),\n",
              " ('Embarked_S', 'Sex_male'),\n",
              " ('Embarked_S', 'SibSp'),\n",
              " ('Fare', 'Parch'),\n",
              " ('Fare', 'Pclass_1'),\n",
              " ('Fare', 'Pclass_2'),\n",
              " ('Fare', 'Pclass_3'),\n",
              " ('Fare', 'Sex_female'),\n",
              " ('Fare', 'Sex_male'),\n",
              " ('Fare', 'SibSp'),\n",
              " ('Parch', 'Pclass_1'),\n",
              " ('Parch', 'Pclass_2'),\n",
              " ('Parch', 'Pclass_3'),\n",
              " ('Parch', 'Sex_female'),\n",
              " ('Parch', 'Sex_male'),\n",
              " ('Parch', 'SibSp'),\n",
              " ('Pclass_1', 'Pclass_2'),\n",
              " ('Pclass_1', 'Pclass_3'),\n",
              " ('Pclass_1', 'Sex_female'),\n",
              " ('Pclass_1', 'Sex_male'),\n",
              " ('Pclass_1', 'SibSp'),\n",
              " ('Pclass_2', 'Pclass_3'),\n",
              " ('Pclass_2', 'Sex_female'),\n",
              " ('Pclass_2', 'Sex_male'),\n",
              " ('Pclass_2', 'SibSp'),\n",
              " ('Pclass_3', 'Sex_female'),\n",
              " ('Pclass_3', 'Sex_male'),\n",
              " ('Pclass_3', 'SibSp'),\n",
              " ('Sex_female', 'Sex_male'),\n",
              " ('Sex_female', 'SibSp'),\n",
              " ('Sex_male', 'SibSp')]"
            ]
          },
          "metadata": {},
          "execution_count": 64
        }
      ]
    },
    {
      "cell_type": "code",
      "source": [
        "import itertools\n",
        "all_2 = list(itertools.combinations(list(X.columns),2)) # nCr\n",
        "res = []\n",
        "for feature in all_2:\n",
        "  X_new = X[list(feature)]\n",
        "  X_train, X_test, y_train, y_test = train_test_split(X_new, y, test_size=0.2, random_state=8, shuffle=True)\n",
        "  model.fit(X_train, y_train)\n",
        "  res.append((feature, model.score(X_test, y_test)))\n"
      ],
      "metadata": {
        "id": "31_Dmi6eGhcA"
      },
      "execution_count": null,
      "outputs": []
    },
    {
      "cell_type": "code",
      "source": [
        "df_r = pd.DataFrame(res).set_index([0])\n",
        "df_r.sort_values([1], ascending=False)"
      ],
      "metadata": {
        "colab": {
          "base_uri": "https://localhost:8080/",
          "height": 455
        },
        "id": "NFk7bVOFIZu_",
        "outputId": "3fe72898-64b1-45a1-e4d8-03e679efe42e"
      },
      "execution_count": null,
      "outputs": [
        {
          "output_type": "execute_result",
          "data": {
            "text/plain": [
              "                               1\n",
              "0                               \n",
              "(Parch, Sex_female)     0.743017\n",
              "(Fare, Sex_male)        0.737430\n",
              "(Pclass_2, Sex_male)    0.737430\n",
              "(Parch, Sex_male)       0.737430\n",
              "(Pclass_1, Sex_female)  0.737430\n",
              "...                          ...\n",
              "(Age, SibSp)            0.569832\n",
              "(Age, Parch)            0.463687\n",
              "(Embarked_C, SibSp)     0.435754\n",
              "(Age, Fare)             0.396648\n",
              "(Fare, Pclass_3)        0.396648\n",
              "\n",
              "[66 rows x 1 columns]"
            ],
            "text/html": [
              "\n",
              "  <div id=\"df-863f6885-e47c-481c-bd0b-7774d208ed9c\">\n",
              "    <div class=\"colab-df-container\">\n",
              "      <div>\n",
              "<style scoped>\n",
              "    .dataframe tbody tr th:only-of-type {\n",
              "        vertical-align: middle;\n",
              "    }\n",
              "\n",
              "    .dataframe tbody tr th {\n",
              "        vertical-align: top;\n",
              "    }\n",
              "\n",
              "    .dataframe thead th {\n",
              "        text-align: right;\n",
              "    }\n",
              "</style>\n",
              "<table border=\"1\" class=\"dataframe\">\n",
              "  <thead>\n",
              "    <tr style=\"text-align: right;\">\n",
              "      <th></th>\n",
              "      <th>1</th>\n",
              "    </tr>\n",
              "    <tr>\n",
              "      <th>0</th>\n",
              "      <th></th>\n",
              "    </tr>\n",
              "  </thead>\n",
              "  <tbody>\n",
              "    <tr>\n",
              "      <th>(Parch, Sex_female)</th>\n",
              "      <td>0.743017</td>\n",
              "    </tr>\n",
              "    <tr>\n",
              "      <th>(Fare, Sex_male)</th>\n",
              "      <td>0.737430</td>\n",
              "    </tr>\n",
              "    <tr>\n",
              "      <th>(Pclass_2, Sex_male)</th>\n",
              "      <td>0.737430</td>\n",
              "    </tr>\n",
              "    <tr>\n",
              "      <th>(Parch, Sex_male)</th>\n",
              "      <td>0.737430</td>\n",
              "    </tr>\n",
              "    <tr>\n",
              "      <th>(Pclass_1, Sex_female)</th>\n",
              "      <td>0.737430</td>\n",
              "    </tr>\n",
              "    <tr>\n",
              "      <th>...</th>\n",
              "      <td>...</td>\n",
              "    </tr>\n",
              "    <tr>\n",
              "      <th>(Age, SibSp)</th>\n",
              "      <td>0.569832</td>\n",
              "    </tr>\n",
              "    <tr>\n",
              "      <th>(Age, Parch)</th>\n",
              "      <td>0.463687</td>\n",
              "    </tr>\n",
              "    <tr>\n",
              "      <th>(Embarked_C, SibSp)</th>\n",
              "      <td>0.435754</td>\n",
              "    </tr>\n",
              "    <tr>\n",
              "      <th>(Age, Fare)</th>\n",
              "      <td>0.396648</td>\n",
              "    </tr>\n",
              "    <tr>\n",
              "      <th>(Fare, Pclass_3)</th>\n",
              "      <td>0.396648</td>\n",
              "    </tr>\n",
              "  </tbody>\n",
              "</table>\n",
              "<p>66 rows × 1 columns</p>\n",
              "</div>\n",
              "      <button class=\"colab-df-convert\" onclick=\"convertToInteractive('df-863f6885-e47c-481c-bd0b-7774d208ed9c')\"\n",
              "              title=\"Convert this dataframe to an interactive table.\"\n",
              "              style=\"display:none;\">\n",
              "        \n",
              "  <svg xmlns=\"http://www.w3.org/2000/svg\" height=\"24px\"viewBox=\"0 0 24 24\"\n",
              "       width=\"24px\">\n",
              "    <path d=\"M0 0h24v24H0V0z\" fill=\"none\"/>\n",
              "    <path d=\"M18.56 5.44l.94 2.06.94-2.06 2.06-.94-2.06-.94-.94-2.06-.94 2.06-2.06.94zm-11 1L8.5 8.5l.94-2.06 2.06-.94-2.06-.94L8.5 2.5l-.94 2.06-2.06.94zm10 10l.94 2.06.94-2.06 2.06-.94-2.06-.94-.94-2.06-.94 2.06-2.06.94z\"/><path d=\"M17.41 7.96l-1.37-1.37c-.4-.4-.92-.59-1.43-.59-.52 0-1.04.2-1.43.59L10.3 9.45l-7.72 7.72c-.78.78-.78 2.05 0 2.83L4 21.41c.39.39.9.59 1.41.59.51 0 1.02-.2 1.41-.59l7.78-7.78 2.81-2.81c.8-.78.8-2.07 0-2.86zM5.41 20L4 18.59l7.72-7.72 1.47 1.35L5.41 20z\"/>\n",
              "  </svg>\n",
              "      </button>\n",
              "      \n",
              "  <style>\n",
              "    .colab-df-container {\n",
              "      display:flex;\n",
              "      flex-wrap:wrap;\n",
              "      gap: 12px;\n",
              "    }\n",
              "\n",
              "    .colab-df-convert {\n",
              "      background-color: #E8F0FE;\n",
              "      border: none;\n",
              "      border-radius: 50%;\n",
              "      cursor: pointer;\n",
              "      display: none;\n",
              "      fill: #1967D2;\n",
              "      height: 32px;\n",
              "      padding: 0 0 0 0;\n",
              "      width: 32px;\n",
              "    }\n",
              "\n",
              "    .colab-df-convert:hover {\n",
              "      background-color: #E2EBFA;\n",
              "      box-shadow: 0px 1px 2px rgba(60, 64, 67, 0.3), 0px 1px 3px 1px rgba(60, 64, 67, 0.15);\n",
              "      fill: #174EA6;\n",
              "    }\n",
              "\n",
              "    [theme=dark] .colab-df-convert {\n",
              "      background-color: #3B4455;\n",
              "      fill: #D2E3FC;\n",
              "    }\n",
              "\n",
              "    [theme=dark] .colab-df-convert:hover {\n",
              "      background-color: #434B5C;\n",
              "      box-shadow: 0px 1px 3px 1px rgba(0, 0, 0, 0.15);\n",
              "      filter: drop-shadow(0px 1px 2px rgba(0, 0, 0, 0.3));\n",
              "      fill: #FFFFFF;\n",
              "    }\n",
              "  </style>\n",
              "\n",
              "      <script>\n",
              "        const buttonEl =\n",
              "          document.querySelector('#df-863f6885-e47c-481c-bd0b-7774d208ed9c button.colab-df-convert');\n",
              "        buttonEl.style.display =\n",
              "          google.colab.kernel.accessAllowed ? 'block' : 'none';\n",
              "\n",
              "        async function convertToInteractive(key) {\n",
              "          const element = document.querySelector('#df-863f6885-e47c-481c-bd0b-7774d208ed9c');\n",
              "          const dataTable =\n",
              "            await google.colab.kernel.invokeFunction('convertToInteractive',\n",
              "                                                     [key], {});\n",
              "          if (!dataTable) return;\n",
              "\n",
              "          const docLinkHtml = 'Like what you see? Visit the ' +\n",
              "            '<a target=\"_blank\" href=https://colab.research.google.com/notebooks/data_table.ipynb>data table notebook</a>'\n",
              "            + ' to learn more about interactive tables.';\n",
              "          element.innerHTML = '';\n",
              "          dataTable['output_type'] = 'display_data';\n",
              "          await google.colab.output.renderOutput(dataTable, element);\n",
              "          const docLink = document.createElement('div');\n",
              "          docLink.innerHTML = docLinkHtml;\n",
              "          element.appendChild(docLink);\n",
              "        }\n",
              "      </script>\n",
              "    </div>\n",
              "  </div>\n",
              "  "
            ]
          },
          "metadata": {},
          "execution_count": 66
        }
      ]
    },
    {
      "cell_type": "code",
      "source": [],
      "metadata": {
        "id": "gRTu86AnJwnf"
      },
      "execution_count": null,
      "outputs": []
    }
  ],
  "metadata": {
    "colab": {
      "collapsed_sections": [],
      "provenance": [],
      "include_colab_link": true
    },
    "kernelspec": {
      "display_name": "Python 3",
      "language": "python",
      "name": "python3"
    },
    "language_info": {
      "codemirror_mode": {
        "name": "ipython",
        "version": 3
      },
      "file_extension": ".py",
      "mimetype": "text/x-python",
      "name": "python",
      "nbconvert_exporter": "python",
      "pygments_lexer": "ipython3",
      "version": "3.8.8"
    },
    "toc": {
      "base_numbering": 1,
      "nav_menu": {},
      "number_sections": false,
      "sideBar": true,
      "skip_h1_title": false,
      "title_cell": "Table of Contents",
      "title_sidebar": "Contents",
      "toc_cell": false,
      "toc_position": {
        "height": "calc(100% - 180px)",
        "left": "10px",
        "top": "150px",
        "width": "202.675px"
      },
      "toc_section_display": true,
      "toc_window_display": true
    }
  },
  "nbformat": 4,
  "nbformat_minor": 0
}