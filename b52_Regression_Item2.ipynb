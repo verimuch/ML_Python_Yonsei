{
  "cells": [
    {
      "cell_type": "markdown",
      "metadata": {
        "id": "rqicG4ztOd7y"
      },
      "source": [
        "# 선형 회귀 모델\n",
        "- 키, 몸무게, 성별 데이터를 사용하여 회귀 예측 모델을 만들어 본다\n",
        "- 남여 성별 정보를 사용하여 성능의 개선되는 것을 확인한다"
      ]
    },
    {
      "cell_type": "code",
      "execution_count": 29,
      "metadata": {
        "id": "6z62QfO8Od72"
      },
      "outputs": [],
      "source": [
        "import numpy as np\n",
        "import pandas as pd\n",
        "import matplotlib.pyplot as plt\n",
        "%config InlineBackend.figure_format = 'retina'\n",
        "import matplotlib\n",
        "matplotlib.rcParams['figure.figsize'] = (5,5)\n",
        "matplotlib.rcParams.update({'font.size': 13})"
      ]
    },
    {
      "cell_type": "code",
      "execution_count": 30,
      "metadata": {
        "id": "Yjbg96UbOd73"
      },
      "outputs": [],
      "source": [
        "from sklearn.metrics import mean_squared_error, mean_absolute_error\n",
        "from sklearn.metrics import r2_score    "
      ]
    },
    {
      "cell_type": "markdown",
      "metadata": {
        "id": "FToAp0tXOd74"
      },
      "source": [
        "## 데이터 다운로드\n",
        "- 키, 몸무게, 성별 데이터"
      ]
    },
    {
      "cell_type": "code",
      "execution_count": 46,
      "metadata": {
        "scrolled": true,
        "id": "K370z9TROd74",
        "outputId": "c6b6c2ff-fdd2-43a9-9d5a-481324821851",
        "colab": {
          "base_uri": "https://localhost:8080/",
          "height": 225
        }
      },
      "outputs": [
        {
          "output_type": "stream",
          "name": "stdout",
          "text": [
            "(1000, 3)\n"
          ]
        },
        {
          "output_type": "execute_result",
          "data": {
            "text/plain": [
              "  Gender      Height      Weight\n",
              "0   Male  187.571423  109.720985\n",
              "1   Male  174.706036   73.622732\n",
              "2   Male  188.239668   96.497550\n",
              "3   Male  182.196685   99.809504\n",
              "4   Male  177.499761   93.598619"
            ],
            "text/html": [
              "\n",
              "  <div id=\"df-be286525-b12a-45ee-a89f-420fb1e38f17\">\n",
              "    <div class=\"colab-df-container\">\n",
              "      <div>\n",
              "<style scoped>\n",
              "    .dataframe tbody tr th:only-of-type {\n",
              "        vertical-align: middle;\n",
              "    }\n",
              "\n",
              "    .dataframe tbody tr th {\n",
              "        vertical-align: top;\n",
              "    }\n",
              "\n",
              "    .dataframe thead th {\n",
              "        text-align: right;\n",
              "    }\n",
              "</style>\n",
              "<table border=\"1\" class=\"dataframe\">\n",
              "  <thead>\n",
              "    <tr style=\"text-align: right;\">\n",
              "      <th></th>\n",
              "      <th>Gender</th>\n",
              "      <th>Height</th>\n",
              "      <th>Weight</th>\n",
              "    </tr>\n",
              "  </thead>\n",
              "  <tbody>\n",
              "    <tr>\n",
              "      <th>0</th>\n",
              "      <td>Male</td>\n",
              "      <td>187.571423</td>\n",
              "      <td>109.720985</td>\n",
              "    </tr>\n",
              "    <tr>\n",
              "      <th>1</th>\n",
              "      <td>Male</td>\n",
              "      <td>174.706036</td>\n",
              "      <td>73.622732</td>\n",
              "    </tr>\n",
              "    <tr>\n",
              "      <th>2</th>\n",
              "      <td>Male</td>\n",
              "      <td>188.239668</td>\n",
              "      <td>96.497550</td>\n",
              "    </tr>\n",
              "    <tr>\n",
              "      <th>3</th>\n",
              "      <td>Male</td>\n",
              "      <td>182.196685</td>\n",
              "      <td>99.809504</td>\n",
              "    </tr>\n",
              "    <tr>\n",
              "      <th>4</th>\n",
              "      <td>Male</td>\n",
              "      <td>177.499761</td>\n",
              "      <td>93.598619</td>\n",
              "    </tr>\n",
              "  </tbody>\n",
              "</table>\n",
              "</div>\n",
              "      <button class=\"colab-df-convert\" onclick=\"convertToInteractive('df-be286525-b12a-45ee-a89f-420fb1e38f17')\"\n",
              "              title=\"Convert this dataframe to an interactive table.\"\n",
              "              style=\"display:none;\">\n",
              "        \n",
              "  <svg xmlns=\"http://www.w3.org/2000/svg\" height=\"24px\"viewBox=\"0 0 24 24\"\n",
              "       width=\"24px\">\n",
              "    <path d=\"M0 0h24v24H0V0z\" fill=\"none\"/>\n",
              "    <path d=\"M18.56 5.44l.94 2.06.94-2.06 2.06-.94-2.06-.94-.94-2.06-.94 2.06-2.06.94zm-11 1L8.5 8.5l.94-2.06 2.06-.94-2.06-.94L8.5 2.5l-.94 2.06-2.06.94zm10 10l.94 2.06.94-2.06 2.06-.94-2.06-.94-.94-2.06-.94 2.06-2.06.94z\"/><path d=\"M17.41 7.96l-1.37-1.37c-.4-.4-.92-.59-1.43-.59-.52 0-1.04.2-1.43.59L10.3 9.45l-7.72 7.72c-.78.78-.78 2.05 0 2.83L4 21.41c.39.39.9.59 1.41.59.51 0 1.02-.2 1.41-.59l7.78-7.78 2.81-2.81c.8-.78.8-2.07 0-2.86zM5.41 20L4 18.59l7.72-7.72 1.47 1.35L5.41 20z\"/>\n",
              "  </svg>\n",
              "      </button>\n",
              "      \n",
              "  <style>\n",
              "    .colab-df-container {\n",
              "      display:flex;\n",
              "      flex-wrap:wrap;\n",
              "      gap: 12px;\n",
              "    }\n",
              "\n",
              "    .colab-df-convert {\n",
              "      background-color: #E8F0FE;\n",
              "      border: none;\n",
              "      border-radius: 50%;\n",
              "      cursor: pointer;\n",
              "      display: none;\n",
              "      fill: #1967D2;\n",
              "      height: 32px;\n",
              "      padding: 0 0 0 0;\n",
              "      width: 32px;\n",
              "    }\n",
              "\n",
              "    .colab-df-convert:hover {\n",
              "      background-color: #E2EBFA;\n",
              "      box-shadow: 0px 1px 2px rgba(60, 64, 67, 0.3), 0px 1px 3px 1px rgba(60, 64, 67, 0.15);\n",
              "      fill: #174EA6;\n",
              "    }\n",
              "\n",
              "    [theme=dark] .colab-df-convert {\n",
              "      background-color: #3B4455;\n",
              "      fill: #D2E3FC;\n",
              "    }\n",
              "\n",
              "    [theme=dark] .colab-df-convert:hover {\n",
              "      background-color: #434B5C;\n",
              "      box-shadow: 0px 1px 3px 1px rgba(0, 0, 0, 0.15);\n",
              "      filter: drop-shadow(0px 1px 2px rgba(0, 0, 0, 0.3));\n",
              "      fill: #FFFFFF;\n",
              "    }\n",
              "  </style>\n",
              "\n",
              "      <script>\n",
              "        const buttonEl =\n",
              "          document.querySelector('#df-be286525-b12a-45ee-a89f-420fb1e38f17 button.colab-df-convert');\n",
              "        buttonEl.style.display =\n",
              "          google.colab.kernel.accessAllowed ? 'block' : 'none';\n",
              "\n",
              "        async function convertToInteractive(key) {\n",
              "          const element = document.querySelector('#df-be286525-b12a-45ee-a89f-420fb1e38f17');\n",
              "          const dataTable =\n",
              "            await google.colab.kernel.invokeFunction('convertToInteractive',\n",
              "                                                     [key], {});\n",
              "          if (!dataTable) return;\n",
              "\n",
              "          const docLinkHtml = 'Like what you see? Visit the ' +\n",
              "            '<a target=\"_blank\" href=https://colab.research.google.com/notebooks/data_table.ipynb>data table notebook</a>'\n",
              "            + ' to learn more about interactive tables.';\n",
              "          element.innerHTML = '';\n",
              "          dataTable['output_type'] = 'display_data';\n",
              "          await google.colab.output.renderOutput(dataTable, element);\n",
              "          const docLink = document.createElement('div');\n",
              "          docLink.innerHTML = docLinkHtml;\n",
              "          element.appendChild(docLink);\n",
              "        }\n",
              "      </script>\n",
              "    </div>\n",
              "  </div>\n",
              "  "
            ]
          },
          "metadata": {},
          "execution_count": 46
        }
      ],
      "source": [
        "## 키, 몸무게, 성별 데이터 다운로드\n",
        "\n",
        "df = pd.read_csv(\"https://github.com/data-labs/data/raw/main/weight-height500.csv\")\n",
        "print(df.shape)\n",
        "df[:5]"
      ]
    },
    {
      "cell_type": "code",
      "execution_count": 47,
      "metadata": {
        "id": "pTepEfUtOd75",
        "outputId": "41967b5b-351b-4281-e48d-49b0442c05a0",
        "colab": {
          "base_uri": "https://localhost:8080/",
          "height": 424
        }
      },
      "outputs": [
        {
          "output_type": "execute_result",
          "data": {
            "text/plain": [
              "         Height      Weight  Gender_Female  Gender_Male\n",
              "0    187.571423  109.720985              0            1\n",
              "1    174.706036   73.622732              0            1\n",
              "2    188.239668   96.497550              0            1\n",
              "3    182.196685   99.809504              0            1\n",
              "4    177.499761   93.598619              0            1\n",
              "..          ...         ...            ...          ...\n",
              "995  158.719611   62.774339              1            0\n",
              "996  165.896759   62.088106              1            0\n",
              "997  166.144075   66.667627              1            0\n",
              "998  167.182860   70.734031              1            0\n",
              "999  168.484131   67.007194              1            0\n",
              "\n",
              "[1000 rows x 4 columns]"
            ],
            "text/html": [
              "\n",
              "  <div id=\"df-e0d6e8d1-6c5d-45ee-8a42-d68d00153447\">\n",
              "    <div class=\"colab-df-container\">\n",
              "      <div>\n",
              "<style scoped>\n",
              "    .dataframe tbody tr th:only-of-type {\n",
              "        vertical-align: middle;\n",
              "    }\n",
              "\n",
              "    .dataframe tbody tr th {\n",
              "        vertical-align: top;\n",
              "    }\n",
              "\n",
              "    .dataframe thead th {\n",
              "        text-align: right;\n",
              "    }\n",
              "</style>\n",
              "<table border=\"1\" class=\"dataframe\">\n",
              "  <thead>\n",
              "    <tr style=\"text-align: right;\">\n",
              "      <th></th>\n",
              "      <th>Height</th>\n",
              "      <th>Weight</th>\n",
              "      <th>Gender_Female</th>\n",
              "      <th>Gender_Male</th>\n",
              "    </tr>\n",
              "  </thead>\n",
              "  <tbody>\n",
              "    <tr>\n",
              "      <th>0</th>\n",
              "      <td>187.571423</td>\n",
              "      <td>109.720985</td>\n",
              "      <td>0</td>\n",
              "      <td>1</td>\n",
              "    </tr>\n",
              "    <tr>\n",
              "      <th>1</th>\n",
              "      <td>174.706036</td>\n",
              "      <td>73.622732</td>\n",
              "      <td>0</td>\n",
              "      <td>1</td>\n",
              "    </tr>\n",
              "    <tr>\n",
              "      <th>2</th>\n",
              "      <td>188.239668</td>\n",
              "      <td>96.497550</td>\n",
              "      <td>0</td>\n",
              "      <td>1</td>\n",
              "    </tr>\n",
              "    <tr>\n",
              "      <th>3</th>\n",
              "      <td>182.196685</td>\n",
              "      <td>99.809504</td>\n",
              "      <td>0</td>\n",
              "      <td>1</td>\n",
              "    </tr>\n",
              "    <tr>\n",
              "      <th>4</th>\n",
              "      <td>177.499761</td>\n",
              "      <td>93.598619</td>\n",
              "      <td>0</td>\n",
              "      <td>1</td>\n",
              "    </tr>\n",
              "    <tr>\n",
              "      <th>...</th>\n",
              "      <td>...</td>\n",
              "      <td>...</td>\n",
              "      <td>...</td>\n",
              "      <td>...</td>\n",
              "    </tr>\n",
              "    <tr>\n",
              "      <th>995</th>\n",
              "      <td>158.719611</td>\n",
              "      <td>62.774339</td>\n",
              "      <td>1</td>\n",
              "      <td>0</td>\n",
              "    </tr>\n",
              "    <tr>\n",
              "      <th>996</th>\n",
              "      <td>165.896759</td>\n",
              "      <td>62.088106</td>\n",
              "      <td>1</td>\n",
              "      <td>0</td>\n",
              "    </tr>\n",
              "    <tr>\n",
              "      <th>997</th>\n",
              "      <td>166.144075</td>\n",
              "      <td>66.667627</td>\n",
              "      <td>1</td>\n",
              "      <td>0</td>\n",
              "    </tr>\n",
              "    <tr>\n",
              "      <th>998</th>\n",
              "      <td>167.182860</td>\n",
              "      <td>70.734031</td>\n",
              "      <td>1</td>\n",
              "      <td>0</td>\n",
              "    </tr>\n",
              "    <tr>\n",
              "      <th>999</th>\n",
              "      <td>168.484131</td>\n",
              "      <td>67.007194</td>\n",
              "      <td>1</td>\n",
              "      <td>0</td>\n",
              "    </tr>\n",
              "  </tbody>\n",
              "</table>\n",
              "<p>1000 rows × 4 columns</p>\n",
              "</div>\n",
              "      <button class=\"colab-df-convert\" onclick=\"convertToInteractive('df-e0d6e8d1-6c5d-45ee-8a42-d68d00153447')\"\n",
              "              title=\"Convert this dataframe to an interactive table.\"\n",
              "              style=\"display:none;\">\n",
              "        \n",
              "  <svg xmlns=\"http://www.w3.org/2000/svg\" height=\"24px\"viewBox=\"0 0 24 24\"\n",
              "       width=\"24px\">\n",
              "    <path d=\"M0 0h24v24H0V0z\" fill=\"none\"/>\n",
              "    <path d=\"M18.56 5.44l.94 2.06.94-2.06 2.06-.94-2.06-.94-.94-2.06-.94 2.06-2.06.94zm-11 1L8.5 8.5l.94-2.06 2.06-.94-2.06-.94L8.5 2.5l-.94 2.06-2.06.94zm10 10l.94 2.06.94-2.06 2.06-.94-2.06-.94-.94-2.06-.94 2.06-2.06.94z\"/><path d=\"M17.41 7.96l-1.37-1.37c-.4-.4-.92-.59-1.43-.59-.52 0-1.04.2-1.43.59L10.3 9.45l-7.72 7.72c-.78.78-.78 2.05 0 2.83L4 21.41c.39.39.9.59 1.41.59.51 0 1.02-.2 1.41-.59l7.78-7.78 2.81-2.81c.8-.78.8-2.07 0-2.86zM5.41 20L4 18.59l7.72-7.72 1.47 1.35L5.41 20z\"/>\n",
              "  </svg>\n",
              "      </button>\n",
              "      \n",
              "  <style>\n",
              "    .colab-df-container {\n",
              "      display:flex;\n",
              "      flex-wrap:wrap;\n",
              "      gap: 12px;\n",
              "    }\n",
              "\n",
              "    .colab-df-convert {\n",
              "      background-color: #E8F0FE;\n",
              "      border: none;\n",
              "      border-radius: 50%;\n",
              "      cursor: pointer;\n",
              "      display: none;\n",
              "      fill: #1967D2;\n",
              "      height: 32px;\n",
              "      padding: 0 0 0 0;\n",
              "      width: 32px;\n",
              "    }\n",
              "\n",
              "    .colab-df-convert:hover {\n",
              "      background-color: #E2EBFA;\n",
              "      box-shadow: 0px 1px 2px rgba(60, 64, 67, 0.3), 0px 1px 3px 1px rgba(60, 64, 67, 0.15);\n",
              "      fill: #174EA6;\n",
              "    }\n",
              "\n",
              "    [theme=dark] .colab-df-convert {\n",
              "      background-color: #3B4455;\n",
              "      fill: #D2E3FC;\n",
              "    }\n",
              "\n",
              "    [theme=dark] .colab-df-convert:hover {\n",
              "      background-color: #434B5C;\n",
              "      box-shadow: 0px 1px 3px 1px rgba(0, 0, 0, 0.15);\n",
              "      filter: drop-shadow(0px 1px 2px rgba(0, 0, 0, 0.3));\n",
              "      fill: #FFFFFF;\n",
              "    }\n",
              "  </style>\n",
              "\n",
              "      <script>\n",
              "        const buttonEl =\n",
              "          document.querySelector('#df-e0d6e8d1-6c5d-45ee-8a42-d68d00153447 button.colab-df-convert');\n",
              "        buttonEl.style.display =\n",
              "          google.colab.kernel.accessAllowed ? 'block' : 'none';\n",
              "\n",
              "        async function convertToInteractive(key) {\n",
              "          const element = document.querySelector('#df-e0d6e8d1-6c5d-45ee-8a42-d68d00153447');\n",
              "          const dataTable =\n",
              "            await google.colab.kernel.invokeFunction('convertToInteractive',\n",
              "                                                     [key], {});\n",
              "          if (!dataTable) return;\n",
              "\n",
              "          const docLinkHtml = 'Like what you see? Visit the ' +\n",
              "            '<a target=\"_blank\" href=https://colab.research.google.com/notebooks/data_table.ipynb>data table notebook</a>'\n",
              "            + ' to learn more about interactive tables.';\n",
              "          element.innerHTML = '';\n",
              "          dataTable['output_type'] = 'display_data';\n",
              "          await google.colab.output.renderOutput(dataTable, element);\n",
              "          const docLink = document.createElement('div');\n",
              "          docLink.innerHTML = docLinkHtml;\n",
              "          element.appendChild(docLink);\n",
              "        }\n",
              "      </script>\n",
              "    </div>\n",
              "  </div>\n",
              "  "
            ]
          },
          "metadata": {},
          "execution_count": 47
        }
      ],
      "source": [
        "df = pd.get_dummies(df, columns=['Gender'])\n",
        "df"
      ]
    },
    {
      "cell_type": "markdown",
      "metadata": {
        "id": "8RKq6_jjOd75"
      },
      "source": [
        "## 데이터 특성"
      ]
    },
    {
      "cell_type": "code",
      "execution_count": null,
      "metadata": {
        "id": "wmT3lCWFOd76"
      },
      "outputs": [],
      "source": [
        "## 남여별 키와 몸무게 분포 보기\n",
        "\n",
        "import seaborn as sns\n",
        "sns.histplot(data=df, x='Height',hue='Gender')\n",
        "plt.show()\n",
        "sns.histplot(data=df, x='Weight',hue='Gender')"
      ]
    },
    {
      "cell_type": "code",
      "execution_count": null,
      "metadata": {
        "scrolled": true,
        "id": "daketQ8QOd76"
      },
      "outputs": [],
      "source": [
        "## 남여별 키와 몸무게 산포도\n",
        "\n",
        "sns.scatterplot(data=df, x='Height', y='Weight', \n",
        "                hue='Gender')"
      ]
    },
    {
      "cell_type": "markdown",
      "metadata": {
        "id": "QqGlOay2Od77"
      },
      "source": [
        "# 선형회귀 모델 "
      ]
    },
    {
      "cell_type": "markdown",
      "metadata": {
        "id": "pg52i6N2Od77"
      },
      "source": [
        "## 모델 생성, 학습, 사용 절차\n",
        "- (1) 머신러닝에서 사용할 모델을 선택하고 생성한다\n",
        "- (2) 훈련 데이터를 사용하여 모델을 학습시킨다 (최적의 파라미터를 구한다)\n",
        "- (3) 검증 데이터를 사용하여 모델의 동작을 검증하고 성능을 평가한다\n",
        "- (4) 모델 훈련이나 검증에 한번도 사용하지 않은 별도의(hold out) 테스트 데이터를 사용하여 모델 성능을 최종 평가한다\n",
        "\n",
        "<img src =\"https://raw.githubusercontent.com/data-labs/image/main/%E1%84%89%E1%85%B3%E1%84%8F%E1%85%B3%E1%84%85%E1%85%B5%E1%86%AB%E1%84%89%E1%85%A3%E1%86%BA%202021-01-09%20%E1%84%8B%E1%85%A9%E1%84%92%E1%85%AE%204.02.11.png?raw=1\" width=450 align='left'>"
      ]
    },
    {
      "cell_type": "markdown",
      "metadata": {
        "id": "6QWOiNGgOd78"
      },
      "source": [
        "## 훈련 및 검증 데이터 나누기"
      ]
    },
    {
      "cell_type": "markdown",
      "metadata": {
        "id": "K7sLBiiTOd78"
      },
      "source": [
        "- 주어진 샘플 데이터(X, y)를 훈련용과 검증용으로 랜덤하게 나누기 위해서 train_test_split 함수를 주로 사용한다\n",
        " - 샘플의 순서를 랜덤하게 섞어서 X_train, X_test 등으로 나눈다"
      ]
    },
    {
      "cell_type": "markdown",
      "metadata": {
        "id": "kOp3alWdOd78"
      },
      "source": [
        "<img src=\"https://raw.githubusercontent.com/data-labs/image/main/%E1%84%89%E1%85%B3%E1%84%8F%E1%85%B3%E1%84%85%E1%85%B5%E1%86%AB%E1%84%89%E1%85%A3%E1%86%BA%202020-12-29%20%E1%84%8B%E1%85%A9%E1%84%92%E1%85%AE%2011.45.47.png?raw=1\" width=300 align='left'>"
      ]
    },
    {
      "cell_type": "markdown",
      "metadata": {
        "id": "4BMlFlKfOd79"
      },
      "source": [
        "# 키로부터 몸무게 예측\n",
        "- 성별 정보는 사용하지 않음. 즉, 남여를 구분하지 않는다"
      ]
    },
    {
      "cell_type": "code",
      "execution_count": null,
      "metadata": {
        "id": "hxyCIpTMOd79"
      },
      "outputs": [],
      "source": [
        "df.Gender = df.Gender.map({'Male':1, 'Female':0})\n",
        "df[:5]"
      ]
    },
    {
      "cell_type": "code",
      "execution_count": null,
      "metadata": {
        "id": "XDwsU9oEOd79"
      },
      "outputs": [],
      "source": [
        "## 키로부터 몸무게 예측하는 선형 모델\n",
        "\n",
        "# X에 성별 정보는 사용하지 않음. 즉, 남여를 구분하지 않는다\n",
        "X = df[[\"Height\"]]\n",
        "y = df['Weight']\n",
        "\n",
        "from sklearn.model_selection import train_test_split\n",
        "X_train, X_test, y_train, y_test = train_test_split(X, y)\n",
        "\n",
        "# 모델 생성, 학습, 사용 후 성능 보기 (R-Squared)\n",
        "from sklearn.linear_model import LinearRegression\n",
        "model = LinearRegression()  # (1) 모델 생성\n",
        "model.fit(X_train, y_train) # (2) 학습\n",
        "model.score(X_test, y_test) # (3) 성능 평가"
      ]
    },
    {
      "cell_type": "code",
      "execution_count": null,
      "metadata": {
        "id": "ReDmSsTFOd7-"
      },
      "outputs": [],
      "source": [
        "## 선형 회귀 직선 그리기\n",
        "\n",
        "\n",
        "# 학습된 가중치(파라미터) 보기\n",
        "a, b = model.coef_, model.intercept_\n",
        "print('a=',a, ', b=',b)\n",
        "\n",
        "# 회귀 직선 보기 (양 끝점 두개를 연결)\n",
        "xs = np.linspace(140,200,2) # 키의 양 끝점 선택\n",
        "ys = a*xs + b               # 모델이 예측하는 몸무게\n",
        "plt.plot(xs,ys, c='r')      # 회귀직선 그리디\n",
        "\n",
        "# 훈련 데이터의 산포도 보기\n",
        "plt.xlabel('Height')\n",
        "plt.ylabel('Weight')\n",
        "plt.scatter(X_train.values, y_train, s=2)"
      ]
    },
    {
      "cell_type": "markdown",
      "metadata": {
        "id": "h74y8Af4Od7-"
      },
      "source": [
        "### 회귀 모델 성능 평가\n",
        "- 회귀 모델의 성능을 평가하는 척도로 기본적으로 R-Squared를 사용하며 MAE, RMSE 등을 참고로 본다\n",
        " - MAE: mean absolute error  \n",
        " - MSE: mean squared error    \n",
        " - RMSE: root MSE  "
      ]
    },
    {
      "cell_type": "markdown",
      "metadata": {
        "id": "VJxPh4S0Od7-"
      },
      "source": [
        "$MAE = $$1\\over{N}$$ \\sum |y_{i} - \\hat{y}|$\n",
        "\n",
        "$MSE = $$1\\over{N}$$ \\sum (y_{i} - \\hat{y})^{2}$\n",
        "\n",
        "$RMSE = \\sqrt{MSE}$\n",
        "\n",
        "$R^{2} = 1$-$\\sum(y_{i}-\\hat{y})^{2}\\over{\\sum(y_{i}-\\bar{y})^{2}}$ $= 1$-$MSE\\over{Variance}$  \n",
        " >  $y$ :  실제값, $\\hat{y}$ :  예측치, $\\bar{y}$ :  평균치\n",
        " \n",
        "-  R-Squared\n",
        " - 회귀 성능의 기본적인 평가 지표\n",
        " - MSE를 분산으로 정규화한 값을 사용한다\n",
        " - R-sqaured 값은 1에 가까울수록 완벽한 예측을 수행한 것이고, 0 근처이면 오차 평균치가 표준편차 정도인 경우이다"
      ]
    },
    {
      "cell_type": "code",
      "execution_count": null,
      "metadata": {
        "id": "z-Sr-xWDOd7_"
      },
      "outputs": [],
      "source": [
        "## 회귀모델의 여러가지 성능 평가 지표 \n",
        "\n",
        "def show_reg_result(y_test,y_pred):\n",
        "    print(\"R-Squared: \", \n",
        "      r2_score(y_test, y_pred).round(3))\n",
        "    print(\"Max Error: \", \n",
        "      round(np.abs(y_test - y_pred).max(),3))\n",
        "    print(\"Mean Absolute Error: \", \n",
        "      round(np.abs(y_test-y_pred).mean(),3))\n",
        "    print(\"Root Mean Squared Error: \", \n",
        "      mean_squared_error(y_test,y_pred, squared=False).round(3))\n",
        "\n",
        "# 예측값을 구한 후에 여러 성능 보기\n",
        "y_pred = model.predict(X_test)\n",
        "show_reg_result(y_test,y_pred)"
      ]
    },
    {
      "cell_type": "markdown",
      "metadata": {
        "id": "LyYd3C09Od7_"
      },
      "source": [
        "### 모델 사용\n",
        "- 임의의 키 값에 대한 몸무게 계측 수행"
      ]
    },
    {
      "cell_type": "code",
      "execution_count": null,
      "metadata": {
        "id": "FH2ElYdfOd7_"
      },
      "outputs": [],
      "source": [
        "model.predict(np.array([[160],[170],[180]]))"
      ]
    },
    {
      "cell_type": "markdown",
      "metadata": {
        "id": "N4hkBMAAOd8A"
      },
      "source": [
        "# 성별 정보 사용\n",
        "- 추가정보를 사용함으로써 (즉, 입력 데이터의 컬럼 수를 늘임으로써) 성능이 개선되는지 확인"
      ]
    },
    {
      "cell_type": "markdown",
      "metadata": {
        "id": "S3V6ychjOd8A"
      },
      "source": [
        "## 성별과 키, 두개의 컬럼을 사용\n",
        "- 남여의 키-몸무게 관계가 구분되므로 추가 정보 사용으로 성능이 개선될 것으로 예상"
      ]
    },
    {
      "cell_type": "code",
      "execution_count": 48,
      "metadata": {
        "id": "4l1oiMtVOd8A",
        "outputId": "462dd28f-0d58-4192-cf8b-66f6455db7e0",
        "colab": {
          "base_uri": "https://localhost:8080/"
        }
      },
      "outputs": [
        {
          "output_type": "execute_result",
          "data": {
            "text/plain": [
              "0.909"
            ]
          },
          "metadata": {},
          "execution_count": 48
        }
      ],
      "source": [
        "## 입력으로 성별과 키 두개의 컬럼을 사용하는 경우\n",
        "\n",
        "X = df[[\"Gender_Female\", \"Gender_Male\", \"Height\"]]\n",
        "y = df.Weight\n",
        "\n",
        "X_train, X_test, y_train, y_test = train_test_split(X, y)\n",
        "model = LinearRegression() \n",
        "model.fit(X_train, y_train)\n",
        "model.score(X_test, y_test).round(4)"
      ]
    },
    {
      "cell_type": "markdown",
      "metadata": {
        "id": "A1PoNOn3Od8A"
      },
      "source": [
        "- 성별 정보를 추가로 사용하여 성능이 개선되었다"
      ]
    },
    {
      "cell_type": "markdown",
      "metadata": {
        "id": "vpr-EEgNOd8B"
      },
      "source": [
        "## 다중 회귀 모델\n",
        "- 입력 변수가 2개인 다중회귀 모델이므로 파라미터가 변수의 수만큼 자동으로 2개 만들어진다\n",
        "- $\\hat{y} = b +a_{1}x_{1} + a_{2}x_{2}$\n",
        "- $x_{1}$: 성별, $x_{2}$: 키"
      ]
    },
    {
      "cell_type": "code",
      "execution_count": 49,
      "metadata": {
        "id": "VjOHc_-zOd8B",
        "outputId": "8ab29799-11d5-4c38-b11d-315818b276b2",
        "colab": {
          "base_uri": "https://localhost:8080/"
        }
      },
      "outputs": [
        {
          "output_type": "stream",
          "name": "stdout",
          "text": [
            "[-4.84055737  4.84055737  1.05275429]\n",
            "-104.23253754798814\n"
          ]
        }
      ],
      "source": [
        "print(model.coef_)\n",
        "print(model.intercept_)"
      ]
    },
    {
      "cell_type": "markdown",
      "metadata": {
        "id": "bZyqkhtpOd8B"
      },
      "source": [
        "## 회귀직선\n",
        "- (1)남성의 경우 회귀 직선 (Gender=0, 갈색 점): 파란색 선\n",
        "- (2)여성의 경우 회귀 직선 (Gender=1, 노란색 점): 붉은색 선\n",
        "- (3)성별을 구분하지 않는 전체 대상의 회귀직선: 검정색"
      ]
    },
    {
      "cell_type": "code",
      "execution_count": 50,
      "metadata": {
        "scrolled": true,
        "id": "pXQotgE3Od8B",
        "outputId": "4c6c1cd9-a207-46bc-f00d-0bbc56ca1231",
        "colab": {
          "base_uri": "https://localhost:8080/",
          "height": 377
        }
      },
      "outputs": [
        {
          "output_type": "stream",
          "name": "stdout",
          "text": [
            "a1, a2, a3, b1 = [  -4.841    4.841    1.053 -164.535]\n"
          ]
        },
        {
          "output_type": "execute_result",
          "data": {
            "text/plain": [
              "<matplotlib.legend.Legend at 0x7fcc6c471550>"
            ]
          },
          "metadata": {},
          "execution_count": 50
        },
        {
          "output_type": "display_data",
          "data": {
            "text/plain": [
              "<Figure size 360x360 with 1 Axes>"
            ],
            "image/png": "[encoded data removed]"
          },
          "metadata": {
            "image/png": {
              "width": 342,
              "height": 323
            },
            "needs_background": "light"
          }
        }
      ],
      "source": [
        "## 선형 회귀 직선 그리기 (성별을 추가한 경우)\n",
        "\n",
        "# 학습된 가중치(파라미터) 보기\n",
        "a1, a2, a3 = model.coef_[0], model.coef_[1], model.coef_[2]\n",
        "b1 = model.intercept_\n",
        "print('a1, a2, a3, b1 =',np.array((a1, a2, a3, b)).round(3))\n",
        "\n",
        "# 훈련 데이터의 산포도 보기\n",
        "plt.scatter(df.Height[df.Gender_Male==1],df.Weight[df.Gender_Male==1],\n",
        "            marker='+', s=13, color='b')\n",
        "plt.scatter(df.Height[df.Gender_Female==1],df.Weight[df.Gender_Female==1],\n",
        "            marker='.', s=9, color='r')\n",
        "plt.xlabel('Height')\n",
        "plt.ylabel('Weight')\n",
        "\n",
        "# 남여 구분 없는 경우 회귀 직선 (a, b 파라미터 사용)\n",
        "xs = np.linspace(140,200,2)  # 양 끝점\n",
        "ys = a*xs + b\n",
        "plt.plot(xs, ys, c='k', label='Male+Female') # 검정색\n",
        "\n",
        "# 남성의 경우 회귀 직선 (Gender=1 으로 고정)\n",
        "ys = a1*1 + a2*0 + a3*xs + b1\n",
        "plt.plot(xs, ys, 'g--', label='Male')      # 파란색\n",
        "\n",
        "# 여성의 경우 회귀 직선 (Gender=0 로 고정)\n",
        "ys = a1*0 + a2*1 + a3*xs + b1\n",
        "plt.plot(xs, ys, c='c', label='Female')     # 붉은색\n",
        "plt.legend()"
      ]
    }
  ],
  "metadata": {
    "kernelspec": {
      "display_name": "Python 3",
      "language": "python",
      "name": "python3"
    },
    "language_info": {
      "codemirror_mode": {
        "name": "ipython",
        "version": 3
      },
      "file_extension": ".py",
      "mimetype": "text/x-python",
      "name": "python",
      "nbconvert_exporter": "python",
      "pygments_lexer": "ipython3",
      "version": "3.8.8"
    },
    "toc": {
      "base_numbering": 1,
      "nav_menu": {},
      "number_sections": false,
      "sideBar": true,
      "skip_h1_title": false,
      "title_cell": "Table of Contents",
      "title_sidebar": "Contents",
      "toc_cell": false,
      "toc_position": {
        "height": "calc(100% - 180px)",
        "left": "10px",
        "top": "150px",
        "width": "203px"
      },
      "toc_section_display": true,
      "toc_window_display": true
    },
    "colab": {
      "provenance": []
    }
  },
  "nbformat": 4,
  "nbformat_minor": 0
}