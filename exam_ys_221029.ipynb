{
  "cells": [
    {
      "cell_type": "markdown",
      "metadata": {
        "id": "pM7JitStlCX5"
      },
      "source": [
        "## 중간고사 (10/29/22)\n",
        "- 답안은 pdf 또는 html 문서로 제출하시오\n",
        "- 메일 hjkim3@gmail.com"
      ]
    },
    {
      "cell_type": "code",
      "execution_count": null,
      "metadata": {
        "id": "8B2q9YpA9etK"
      },
      "outputs": [],
      "source": [
        "import pandas as pd\n",
        "import numpy as np\n",
        "import matplotlib.pyplot as plt\n",
        "import matplotlib"
      ]
    },
    {
      "cell_type": "code",
      "execution_count": null,
      "metadata": {
        "id": "45_rACMSlCX7"
      },
      "outputs": [],
      "source": [
        "# 사용할 데이터 \n",
        "df = pd.read_csv(\"https://raw.githubusercontent.com/StillWork/data/master/titanic_train.csv\")"
      ]
    },
    {
      "cell_type": "markdown",
      "metadata": {
        "id": "prTpfA0blCX8"
      },
      "source": [
        "## 전처리를 아래와 같이 수행하는 코드를 작성하시오\n",
        "(1) Age 결측치를 모두 30으로 대체하시오  \n",
        "(2) 항구명 결측치를 가장 빈도수가 높은 항구명으로 대체하시오  \n",
        "(3) 선실등급, 성별, 항구명을 원핫 인코딩하시오  \n",
        "(4) 요금(Fare)은 로그를 취하지 않은 값을 사용하시오  \n",
        "(5) 연속형 변수들에 대해 min-max 스케일링을 적용하시오  "
      ]
    },
    {
      "cell_type": "markdown",
      "metadata": {
        "id": "XcfYO_P2lCX8"
      },
      "source": [
        "## 아래와 같은 모델을 작성하시오\n",
        "\n",
        "(6) 훈련 데이터로 80%, 검증데이터로 20%를 배분하시오  \n",
        "(7) 모든 특성(features)을 사용하여 생존자를 예측하는 선형모델을 작성하고 정확도를 구하시오  \n",
        "(8) 위에서 구한 선형모델의 가중치를 막대그래프로 나타내시오  \n",
        "(9) 특성을 임의로 2개 선택하되 가능한 높은 성능이 나오도록 특성을 선택하시오  \n",
        "(10) 위의 9번에서 사용하지 않은 다른 특성을 2개 선택하되 가능한 높은 성능이 나오도록 선택하시오"
      ]
    },
    {
      "cell_type": "code",
      "execution_count": null,
      "metadata": {
        "id": "jR4uKVHolCX9"
      },
      "outputs": [],
      "source": []
    }
  ],
  "metadata": {
    "colab": {
      "collapsed_sections": [],
      "provenance": []
    },
    "kernelspec": {
      "display_name": "Python 3",
      "language": "python",
      "name": "python3"
    },
    "language_info": {
      "codemirror_mode": {
        "name": "ipython",
        "version": 3
      },
      "file_extension": ".py",
      "mimetype": "text/x-python",
      "name": "python",
      "nbconvert_exporter": "python",
      "pygments_lexer": "ipython3",
      "version": "3.8.8"
    },
    "toc": {
      "base_numbering": 1,
      "nav_menu": {},
      "number_sections": false,
      "sideBar": true,
      "skip_h1_title": false,
      "title_cell": "Table of Contents",
      "title_sidebar": "Contents",
      "toc_cell": false,
      "toc_position": {
        "height": "calc(100% - 180px)",
        "left": "10px",
        "top": "150px",
        "width": "202.675px"
      },
      "toc_section_display": true,
      "toc_window_display": false
    }
  },
  "nbformat": 4,
  "nbformat_minor": 0
}